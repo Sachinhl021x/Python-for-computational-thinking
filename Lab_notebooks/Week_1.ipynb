{
  "cells": [
    {
      "cell_type": "markdown",
      "metadata": {
        "id": "DnY50uqgD2df"
      },
      "source": [
        "# Welcome to the first lab session of the course\n",
        "\n",
        "## In this session we will:\n",
        "- Learn to work on Jupyter notebook\n",
        "- [Learn about primitives and variables](#Part-1)\n",
        "- [Perform some basic operations using python](#Part-2)\n",
        "- [Build more complex tools using basic operations](#Part-3)\n",
        "- [Try to work up to slightly more advance tasks towards the end](#Part-4)"
      ]
    },
    {
      "cell_type": "markdown",
      "metadata": {
        "id": "7tL34AeWD2dh"
      },
      "source": [
        "### P.S. this is called markdown which is useful for commenting and adding readability to your code for other users."
      ]
    },
    {
      "cell_type": "markdown",
      "metadata": {
        "id": "lTK_BLG2D2di"
      },
      "source": [
        ">Cheat codes: Shortcuts in life are not good, but they definitely are when coding, find them in \n",
        ">>*Help $\\rightarrow$ Keyboard Shortcuts*"
      ]
    },
    {
      "cell_type": "markdown",
      "metadata": {
        "id": "ymrTegzED2di"
      },
      "source": [
        "## Part 1\n",
        "> ### Variables\n",
        "- Variables are 'containers' to which you assign a value.\n",
        "    - Case sensitive ('a' and 'A' are different variables)\n",
        "    - Must start with a letter or underscore and not a number\n",
        "    - Can only contain alphanumeric characters (A-Z, a-z, 0-9 and '_')\n",
        "    - Variable names with more than one word should be joined by an underscore\n",
        "    - Should not use [keywords](https://www.w3schools.com/python/python_ref_keywords.asp)\n",
        "    - Declaring the same variable again will overwrite the value.\n",
        "    \n",
        "    Try to break these rules and see what happens."
      ]
    },
    {
      "cell_type": "code",
      "execution_count": null,
      "metadata": {
        "collapsed": true,
        "id": "C-PaNGClD2di"
      },
      "outputs": [],
      "source": [
        "# Enter code here\n"
      ]
    },
    {
      "cell_type": "markdown",
      "metadata": {
        "id": "c0S1RadqD2dk"
      },
      "source": [
        "> ### Primitives\n",
        "- There are 4 types of primitives in Python. Fill them below:\n",
        "    - \n",
        "    - \n",
        "    - \n",
        "    - "
      ]
    },
    {
      "cell_type": "code",
      "execution_count": null,
      "metadata": {
        "collapsed": true,
        "id": "Q5cufq9PD2dk"
      },
      "outputs": [],
      "source": [
        "a = 3\n",
        "b = 'Hello!'\n",
        "c = 56.2\n",
        "d = True"
      ]
    },
    {
      "cell_type": "markdown",
      "metadata": {
        "id": "veb8GLkLD2dl"
      },
      "source": [
        "### Find the primitive type assigned to each variable"
      ]
    },
    {
      "cell_type": "code",
      "execution_count": null,
      "metadata": {
        "id": "bolLfZHdD2dl"
      },
      "outputs": [],
      "source": [
        "# Enter code here\n"
      ]
    },
    {
      "cell_type": "markdown",
      "metadata": {
        "id": "z8-I0HQxD2dm"
      },
      "source": [
        "###### Hint: use the <code>type()</code> function"
      ]
    },
    {
      "cell_type": "markdown",
      "metadata": {
        "id": "H1LFfpswD2dn"
      },
      "source": [
        ">What happens when you try to combine different primitive types?"
      ]
    },
    {
      "cell_type": "code",
      "execution_count": null,
      "metadata": {
        "id": "Ym4HDVYQD2dn"
      },
      "outputs": [],
      "source": [
        ""
      ]
    },
    {
      "cell_type": "markdown",
      "metadata": {
        "id": "3RTH4og0D2do"
      },
      "source": [
        "## Part 2\n",
        "> ### Starting with basic operations\n",
        "- Start by exploring the basic mathematical operations $(+, -, *, /, **, //, \\%)$<br>\n",
        "- Use them on different primitive types and see what happens.<br>\n",
        "- Add a comment in the cell for what each opearation does."
      ]
    },
    {
      "cell_type": "code",
      "execution_count": null,
      "metadata": {
        "id": "Ew3nLusfD2do"
      },
      "outputs": [],
      "source": [
        "# It is good practice to add comments to your code.\n",
        "# Comments are not executed and are useful for explaining things for yourself to remember and other users to understand \n",
        "# Comments can be toggled with \"ctrl + /\" or by adding a '#' before the comment. Try it."
      ]
    },
    {
      "cell_type": "code",
      "execution_count": null,
      "metadata": {
        "id": "CWckinDzD2do"
      },
      "outputs": [],
      "source": [
        "20//6"
      ]
    },
    {
      "cell_type": "code",
      "execution_count": null,
      "metadata": {
        "scrolled": false,
        "id": "MIUYaAfXD2dp"
      },
      "outputs": [],
      "source": [
        "20%6"
      ]
    },
    {
      "cell_type": "code",
      "execution_count": null,
      "metadata": {
        "id": "FZRK5H9CD2dp"
      },
      "outputs": [],
      "source": [
        "string = \"hello\"\n",
        "add = \"world\"\n",
        "\n",
        "print(string*2)"
      ]
    },
    {
      "cell_type": "code",
      "execution_count": null,
      "metadata": {
        "id": "hoX2MC7xD2dq"
      },
      "outputs": [],
      "source": [
        "hello_world = 4"
      ]
    },
    {
      "cell_type": "markdown",
      "metadata": {
        "id": "tsbm4dGbD2dq"
      },
      "source": [
        "### Comparison operators\n",
        "> As the name suggests comparison operators are used to compare two values. The comparison return a <code>True</code> or <code>False</code> value.\n",
        "- Greater than $>$\n",
        "- Lower than $<$\n",
        "- Greater than or equal to $>=$\n",
        "- Lower than or equal to $<+$\n",
        "- Equal to $==$\n",
        "- Not equal to $!=$\n",
        "\n",
        "    Try them out with different primitive types."
      ]
    },
    {
      "cell_type": "code",
      "execution_count": null,
      "metadata": {
        "id": "jbMWejtsD2dq"
      },
      "outputs": [],
      "source": [
        "# Enter code here\n"
      ]
    },
    {
      "cell_type": "markdown",
      "metadata": {
        "id": "gaPIwSuZD2dq"
      },
      "source": [
        "### Logical operators\n",
        ">These are used to combine two or more conditions or comparison expressions.\n",
        "- <code>and</code>\n",
        "- <code>or</code>\n",
        "- <code>not</code>\n",
        "\n",
        "    Try combining multiple conditions and see what the output is."
      ]
    },
    {
      "cell_type": "code",
      "execution_count": null,
      "metadata": {
        "id": "2j2CsaATD2dq"
      },
      "outputs": [],
      "source": [
        "# Enter code here\n"
      ]
    },
    {
      "cell_type": "markdown",
      "metadata": {
        "id": "2FMBw7TTD2dq"
      },
      "source": [
        "#### Hint: <code>condition_1 *logical_operator* condition_2</code>\n",
        "[Read more](https://www.tutorialsteacher.com/python/python-operators)"
      ]
    },
    {
      "cell_type": "markdown",
      "metadata": {
        "id": "BmgzzkYFD2dr"
      },
      "source": [
        "## Part 3\n",
        "> ### Build a calculator\n",
        "Use the <code>input()</code> and <code>print()</code> functions to build a simple interactive calculator for multiple operations."
      ]
    },
    {
      "cell_type": "code",
      "execution_count": null,
      "metadata": {
        "id": "b-zeqXfaD2dr"
      },
      "outputs": [],
      "source": [
        "a = int(input())\n",
        "b = int(input())\n",
        "a+b"
      ]
    },
    {
      "cell_type": "code",
      "execution_count": null,
      "metadata": {
        "id": "8AWdc2tiD2ds",
        "outputId": "ef66961d-9a25-4713-86eb-70c021b5a87f"
      },
      "outputs": [
        {
          "name": "stdout",
          "output_type": "stream",
          "text": [
            "Add a value for a: 10\n",
            "Add a value for b: 10\n",
            "The sum of a and b is: 20\n"
          ]
        }
      ],
      "source": [
        "a = int(input(\"Add a value for a: \"))\n",
        "b = int(input(\"Add a value for b: \"))\n",
        "print(\"The sum of a and b is:\",a+b)"
      ]
    },
    {
      "cell_type": "markdown",
      "metadata": {
        "id": "fLkfGlPBD2ds"
      },
      "source": [
        ">Using the <code>input()</code> function, write a program that asks for your name and age and prints it in a sentence."
      ]
    },
    {
      "cell_type": "code",
      "execution_count": null,
      "metadata": {
        "id": "MgNLNyOLD2ds",
        "outputId": "31008fae-744e-4b4f-d5c1-ed328348ff75"
      },
      "outputs": [
        {
          "name": "stdout",
          "output_type": "stream",
          "text": [
            "Hi! I am CoMpUtEr, can you introduce yourself to me?\n",
            "Raghav\n",
            "25\n",
            "My name is Raghav and I am 25 years old\n"
          ]
        }
      ],
      "source": [
        "print(\"Hi! I am CoMpUtEr, can you introduce yourself to me?\")\n",
        "name = input()\n",
        "age = input()\n",
        "print(\"My name is\", name, \"and I am\", age, \"years old\")"
      ]
    },
    {
      "cell_type": "markdown",
      "metadata": {
        "id": "3BNCKR2MD2dt"
      },
      "source": [
        "## Part 4\n",
        "> ### Convert numbers to another base system\n",
        "There are multiple ways to perform this task. Start with using the basic operations and then find out about inbuilt python functions to do the same.\n",
        "\n",
        "    P.S. Google is your best friend."
      ]
    },
    {
      "cell_type": "code",
      "execution_count": null,
      "metadata": {
        "id": "kvwIHkomD2dt",
        "outputId": "2b93d1b4-c4ce-4fa0-a34b-bf1901689c28"
      },
      "outputs": [
        {
          "data": {
            "text/plain": [
              "(7, 1)"
            ]
          },
          "execution_count": 16,
          "metadata": {},
          "output_type": "execute_result"
        }
      ],
      "source": [
        "# Decimal to binary\n",
        "15//2, 15%2"
      ]
    },
    {
      "cell_type": "code",
      "execution_count": null,
      "metadata": {
        "id": "O4VD2opYD2dt",
        "outputId": "cb57322e-ba00-486d-88fc-7a972634b5a2"
      },
      "outputs": [
        {
          "data": {
            "text/plain": [
              "(3, 1)"
            ]
          },
          "execution_count": 17,
          "metadata": {},
          "output_type": "execute_result"
        }
      ],
      "source": [
        "7//2, 7%2"
      ]
    },
    {
      "cell_type": "code",
      "execution_count": null,
      "metadata": {
        "id": "g51GviGpD2du",
        "outputId": "0e02e5b5-99ec-4920-9c0e-7c264ed2fd2b"
      },
      "outputs": [
        {
          "data": {
            "text/plain": [
              "(1, 1)"
            ]
          },
          "execution_count": 18,
          "metadata": {},
          "output_type": "execute_result"
        }
      ],
      "source": [
        "3//2, 3%2"
      ]
    },
    {
      "cell_type": "code",
      "execution_count": null,
      "metadata": {
        "id": "h82dubtBD2du",
        "outputId": "e4a15358-223e-4060-9ce4-a85c79d38ee5"
      },
      "outputs": [
        {
          "data": {
            "text/plain": [
              "(0, 1)"
            ]
          },
          "execution_count": 19,
          "metadata": {},
          "output_type": "execute_result"
        }
      ],
      "source": [
        "1//2, 1%2"
      ]
    },
    {
      "cell_type": "code",
      "execution_count": null,
      "metadata": {
        "id": "B9mKyKfQD2du",
        "outputId": "4acc59e4-e95d-4d4d-a0ba-5c7c2e35d884"
      },
      "outputs": [
        {
          "name": "stdout",
          "output_type": "stream",
          "text": [
            "0b1111\n"
          ]
        }
      ],
      "source": [
        "print(bin(15))"
      ]
    },
    {
      "cell_type": "code",
      "execution_count": null,
      "metadata": {
        "id": "lh-03s79D2dv",
        "outputId": "14459920-d524-472f-b1ba-9fcaa1bb0c43"
      },
      "outputs": [
        {
          "name": "stdout",
          "output_type": "stream",
          "text": [
            "1111\n"
          ]
        }
      ],
      "source": [
        "print(\"{0:b}\".format(int(15)))"
      ]
    },
    {
      "cell_type": "code",
      "execution_count": null,
      "metadata": {
        "collapsed": true,
        "id": "BzdihQPLD2dv"
      },
      "outputs": [],
      "source": [
        "# Decimal to octal"
      ]
    },
    {
      "cell_type": "code",
      "execution_count": null,
      "metadata": {
        "collapsed": true,
        "id": "88cqbgYeD2dv"
      },
      "outputs": [],
      "source": [
        "# Decimal to hexadecimal"
      ]
    }
  ],
  "metadata": {
    "kernelspec": {
      "display_name": "Python 3",
      "language": "python",
      "name": "python3"
    },
    "language_info": {
      "codemirror_mode": {
        "name": "ipython",
        "version": 3
      },
      "file_extension": ".py",
      "mimetype": "text/x-python",
      "name": "python",
      "nbconvert_exporter": "python",
      "pygments_lexer": "ipython3",
      "version": "3.6.3"
    },
    "colab": {
      "name": "Week_1.ipynb",
      "provenance": []
    }
  },
  "nbformat": 4,
  "nbformat_minor": 0
}