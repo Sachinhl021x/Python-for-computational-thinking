{
  "nbformat": 4,
  "nbformat_minor": 0,
  "metadata": {
    "colab": {
      "name": "Week_2.ipynb",
      "provenance": [],
      "collapsed_sections": []
    },
    "kernelspec": {
      "name": "python3",
      "display_name": "Python 3"
    },
    "language_info": {
      "name": "python"
    }
  },
  "cells": [
    {
      "cell_type": "markdown",
      "metadata": {
        "id": "plBO0V5i-G9i"
      },
      "source": [
        "# Welcome to the second lab session"
      ]
    },
    {
      "cell_type": "markdown",
      "metadata": {
        "id": "fFL7y5bXBRiF"
      },
      "source": [
        "In this session we will:\n",
        "*   Implement linear and non-linear functions\n",
        "*   Learn how to creating functions\n",
        "*   Create a calculator function\n",
        "*   Create a number base conversion function"
      ]
    },
    {
      "cell_type": "markdown",
      "metadata": {
        "id": "-_CdckHBXBPA"
      },
      "source": [
        "# Building functions\n",
        "\n",
        "Functions are pieces of code that enable you to execute multiple lines of code by only writing them once. Think of the function as a light switch when you press the switch, the light turns on, but you don't know exactly what is happening behind the switch, only that the light is turning on. \n",
        "\n",
        "A function is pretty similar to that, you build it once and then you can execute it however many times you want without going through each step taking place inside the function manually.\n",
        "\n",
        "Let's build a simple function. \n",
        "\n",
        "The syntax for building a function is as follows:\n"
      ]
    },
    {
      "cell_type": "code",
      "metadata": {
        "id": "HBkKSZYhFGSS",
        "colab": {
          "base_uri": "https://localhost:8080/"
        },
        "outputId": "5c9fef73-f9c0-4105-8789-64239f98a2c3"
      },
      "source": [
        "def function_name(argument1, argument2):\n",
        "  # code that makes use of argument1 and argument2 for a specific task\n",
        "  # e.g.\n",
        "  result = argument1 + argument2\n",
        "  return print(\"The result is\", result)\n",
        "\n",
        "function_name(1,2)"
      ],
      "execution_count": null,
      "outputs": [
        {
          "output_type": "stream",
          "name": "stdout",
          "text": [
            "The result is 3\n"
          ]
        }
      ]
    },
    {
      "cell_type": "markdown",
      "metadata": {
        "id": "foB7hpHEZjNJ"
      },
      "source": [
        "Your turn, build a function for each of the mathematical operations you performed in the previous lab session."
      ]
    },
    {
      "cell_type": "code",
      "metadata": {
        "id": "R-f-TbpMX3tZ"
      },
      "source": [
        "# Enter code here\n"
      ],
      "execution_count": null,
      "outputs": []
    },
    {
      "cell_type": "markdown",
      "metadata": {
        "id": "za2oYCQoaRxZ"
      },
      "source": [
        "Now that you have some functions ready and working see if you can create a function called <code>calc</code> that accepts three arguments, the first two being two numbers and the third being the name of an operation to be performed on the two numbers.\n",
        "\n",
        ">Hint: you can call functions within other functions to improve functionality and flexibility within your code."
      ]
    },
    {
      "cell_type": "code",
      "metadata": {
        "id": "9TAg56dbX6-p"
      },
      "source": [
        ""
      ],
      "execution_count": null,
      "outputs": []
    },
    {
      "cell_type": "markdown",
      "metadata": {
        "id": "yYwr3ZJkvsnB"
      },
      "source": [
        "You can also call a function within itself as an argument. Use the <code>calc</code> function to perform the following calculation in one line of code only.\n",
        "\n",
        "<code>2*5+51/8</code>"
      ]
    },
    {
      "cell_type": "code",
      "metadata": {
        "id": "2YZuL6Sea8Fi"
      },
      "source": [
        ""
      ],
      "execution_count": null,
      "outputs": []
    },
    {
      "cell_type": "code",
      "metadata": {
        "id": "UNhwJoeta_fN"
      },
      "source": [
        ""
      ],
      "execution_count": null,
      "outputs": []
    },
    {
      "cell_type": "markdown",
      "metadata": {
        "id": "GqB0vC0zPwX2"
      },
      "source": [
        "What if you wanted to add more than just two inputs to your function? Say 3 inputs or 4. Would you create a separate function that takes in 3 inputs and another one that takes in 4 inputs?\n",
        "\n",
        ">That sounds pretty tedious.\n",
        "\n",
        "Thankfully there's a way out. You can use the magic variable called <code>*args</code> to take in multiple inputs at the same time for your function. Phew!\n",
        "\n",
        "Here is a very basic implementation of a function using <code>\\*args</code> that takes in any number of arguments and uses a **for** loop (which you will learn more about next week) to iterate (or go over one by one) over each argument."
      ]
    },
    {
      "cell_type": "code",
      "metadata": {
        "colab": {
          "base_uri": "https://localhost:8080/"
        },
        "id": "p2fc3WjHHUvr",
        "outputId": "f7233a89-2f6f-4e3a-87cc-2a61ceca5fcd"
      },
      "source": [
        "def myFun(*args):\n",
        "    for arg in args:\n",
        "        print(arg)\n",
        "   \n",
        "myFun('Hello', 'this', 'is', '*args')"
      ],
      "execution_count": null,
      "outputs": [
        {
          "output_type": "stream",
          "name": "stdout",
          "text": [
            "Hello\n",
            "this\n",
            "is\n",
            "*args\n"
          ]
        }
      ]
    },
    {
      "cell_type": "markdown",
      "metadata": {
        "id": "aquDtJ6cHht4"
      },
      "source": [
        "Try to re-make the functions you created earlier to accept multiple inputs.\n",
        "\n",
        "Read about the usage of [<code>*args</code>](https://www.geeksforgeeks.org/args-kwargs-python/)."
      ]
    },
    {
      "cell_type": "code",
      "metadata": {
        "id": "Ji_eDuPtMuSe"
      },
      "source": [
        ""
      ],
      "execution_count": null,
      "outputs": []
    },
    {
      "cell_type": "code",
      "metadata": {
        "id": "eZwa5GuoO3NE"
      },
      "source": [
        ""
      ],
      "execution_count": null,
      "outputs": []
    },
    {
      "cell_type": "markdown",
      "metadata": {
        "id": "IL5kvIH0w3fo"
      },
      "source": [
        "## Let's implement some linear and non-linear functions and see the differences between them"
      ]
    },
    {
      "cell_type": "markdown",
      "metadata": {
        "id": "ipg5NpjMyhVI"
      },
      "source": [
        "Performing operations on a list of numbers is not as straight forward as you might think. If you simply try to perform an operation on a list using one of your functions from before you will get an error. This is where *loops* are useful.\n",
        "\n",
        "There is some piece of code already written which makes use of a **for** *loop* which is a concept that you will learn more about in the next week."
      ]
    },
    {
      "cell_type": "code",
      "metadata": {
        "id": "0kUdTuJwxlGT"
      },
      "source": [
        "def function(list_1):              # function that takes a list as an input\n",
        "  list_2 = []                      # defining an empty list\n",
        "  for item in list_1:              # loop that iterates through each element, 'item', of a list one at a time and performs an operation on it\n",
        "    list_2.append(item*2)          # code to perform the required operation and add that value to the new empty list with the append function\n",
        "\n",
        "  return list_2                    # returns the new list"
      ],
      "execution_count": null,
      "outputs": []
    },
    {
      "cell_type": "code",
      "metadata": {
        "id": "6wBviM7YxmTn"
      },
      "source": [
        "a = list(range(-50, 50))\n",
        "b = function(a)"
      ],
      "execution_count": null,
      "outputs": []
    },
    {
      "cell_type": "markdown",
      "metadata": {
        "id": "SesbO0pp3lEb"
      },
      "source": [
        "Its helpful to visualise the operations being performed. Below you can see a basic code to plot a graph between two lists, you will learn more about data visualisation later in the course but for now use this template to plot your functions and see how the output looks."
      ]
    },
    {
      "cell_type": "code",
      "metadata": {
        "colab": {
          "base_uri": "https://localhost:8080/",
          "height": 283
        },
        "id": "puGqMWhh0NxA",
        "outputId": "8b91e394-b46a-46af-a9d0-978aa8a85915"
      },
      "source": [
        "import matplotlib.pyplot as plt # this only needs to be executed once to import the neccessary library for plotting\n",
        "\n",
        "plt.plot(a, b)                  # plots a line graph between a, on the x-axis and b, on the y-axis"
      ],
      "execution_count": null,
      "outputs": [
        {
          "output_type": "execute_result",
          "data": {
            "text/plain": [
              "[<matplotlib.lines.Line2D at 0x7f7d364118d0>]"
            ]
          },
          "metadata": {},
          "execution_count": 9
        },
        {
          "output_type": "display_data",
          "data": {
            "image/png": "[encoded data removed]",
            "text/plain": [
              "<Figure size 432x288 with 1 Axes>"
            ]
          },
          "metadata": {
            "needs_background": "light"
          }
        }
      ]
    },
    {
      "cell_type": "markdown",
      "metadata": {
        "id": "E2uCVVQg2Dqb"
      },
      "source": [
        "Your task is to use this template to build a set of linear and non linear functions, plot them and comment on whether the functions are bijective or not.\n",
        "\n",
        "Some functions you can plot:\n",
        "- Linear\n",
        "  - $y = mx + c$\n",
        "  - $y = ax + bx$\n",
        "\n",
        "- Non-linear\n",
        "  - $y = x^2$\n",
        "  - $y = |x|$"
      ]
    },
    {
      "cell_type": "code",
      "metadata": {
        "id": "6kGMqSQOJ3OY"
      },
      "source": [
        "# Enter code here\n"
      ],
      "execution_count": null,
      "outputs": []
    },
    {
      "cell_type": "markdown",
      "metadata": {
        "id": "fdwart_Ac7bv"
      },
      "source": [
        "# Build a function to convert a number from one base system to another\n",
        "\n",
        "Remember last week when you had to do this task manually one step at a time? Well, now its time to do that again, only in a smarter way.\n",
        "\n",
        "Try to build a function that takes in an input number and converts it into another base system. Start with decimal to binary and then move on to other conversion pairs.\n",
        "\n",
        ">Essentially what you are trying to do is to recreate the inbuilt <code>[hex()](https://www.programiz.com/python-programming/methods/built-in/hex)</code> and <code>[bin()](https://www.programiz.com/python-programming/methods/built-in/bin)</code> functions."
      ]
    },
    {
      "cell_type": "code",
      "metadata": {
        "id": "xFFm5fRKd3U0"
      },
      "source": [
        "# Enter code here\n"
      ],
      "execution_count": null,
      "outputs": []
    },
    {
      "cell_type": "code",
      "metadata": {
        "id": "AW7phwIrBZr-"
      },
      "source": [
        "kwargs =2"
      ],
      "execution_count": null,
      "outputs": []
    },
    {
      "cell_type": "code",
      "metadata": {
        "id": "A-mI5iQen_ZL"
      },
      "source": [
        "kwargs=2"
      ],
      "execution_count": null,
      "outputs": []
    },
    {
      "cell_type": "code",
      "metadata": {
        "id": "GOAuJGmOoFjx",
        "outputId": "eec10de1-0fb6-4024-ef78-b48fefdee6e5",
        "colab": {
          "base_uri": "https://localhost:8080/"
        }
      },
      "source": [
        "kwargs"
      ],
      "execution_count": null,
      "outputs": [
        {
          "output_type": "execute_result",
          "data": {
            "text/plain": [
              "2"
            ]
          },
          "metadata": {},
          "execution_count": 3
        }
      ]
    },
    {
      "cell_type": "code",
      "metadata": {
        "id": "bG5CtZGIoGNr"
      },
      "source": [
        ""
      ],
      "execution_count": null,
      "outputs": []
    }
  ]
}