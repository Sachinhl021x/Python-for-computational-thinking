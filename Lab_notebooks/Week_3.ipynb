{
  "nbformat": 4,
  "nbformat_minor": 0,
  "metadata": {
    "colab": {
      "name": "Week_3.ipynb",
      "provenance": [],
      "collapsed_sections": []
    },
    "kernelspec": {
      "name": "python3",
      "display_name": "Python 3"
    },
    "language_info": {
      "name": "python"
    }
  },
  "cells": [
    {
      "cell_type": "markdown",
      "metadata": {
        "id": "dmu5cJt6ENel"
      },
      "source": [
        "# Welcome to the third lab session"
      ]
    },
    {
      "cell_type": "markdown",
      "metadata": {
        "id": "YQLLz6QSEjCM"
      },
      "source": [
        "In this session we will:\n",
        "- Implement if...else, if...elif statements\n",
        "- Implement for, while loops\n",
        "- Implement a bisection search\n",
        "- Implement Newton-Raphson method"
      ]
    },
    {
      "cell_type": "markdown",
      "metadata": {
        "id": "8haApZdlquTf"
      },
      "source": [
        "## <code>if</code> statement"
      ]
    },
    {
      "cell_type": "markdown",
      "metadata": {
        "id": "ggzgkFlCEi9x"
      },
      "source": [
        "The <code>if</code> statement is a conditional statement that evaluates the given test condition...*if* the condition is **true**, it will execute a defined statement and *if* the condition is not **true**, it will not execute the defined statement. \n",
        "\n",
        "The syntax for an <code>if</code> statement is shown below."
      ]
    },
    {
      "cell_type": "code",
      "metadata": {
        "id": "SngXF_1-fZp4"
      },
      "source": [
        "# Don't run this\n",
        "if test_condition:\n",
        "  # if condition is true\n",
        "  execute a statement"
      ],
      "execution_count": null,
      "outputs": []
    },
    {
      "cell_type": "markdown",
      "metadata": {
        "id": "pX-CJqJHbofV"
      },
      "source": [
        "Try out an <code>if</code> statement that prints 'a is greater than b', if a value 'a' is greater than another value 'b'.\n"
      ]
    },
    {
      "cell_type": "code",
      "metadata": {
        "id": "Q52O8pJuVGeU"
      },
      "source": [
        ""
      ],
      "execution_count": null,
      "outputs": []
    },
    {
      "cell_type": "markdown",
      "metadata": {
        "id": "AjeqqfkZrC3i"
      },
      "source": [
        "## <code>if...else</code> statement"
      ]
    },
    {
      "cell_type": "markdown",
      "metadata": {
        "id": "AyxrrygfdK0R"
      },
      "source": [
        "An <code>if</code> statement can be extended to an <code>if...else</code> statement. \n",
        "\n",
        "Adding to the <code>if</code> statement described above, the <code>else</code> statement is also a conditional statement that will execute a defined statement *if* the <code>if</code> test condition was **false**. The visual representation and syntax for an <code>if...else</code> statement is shown below."
      ]
    },
    {
      "cell_type": "markdown",
      "metadata": {
        "id": "HxQct-imqiX_"
      },
      "source": [
        "\n",
        "![image.png](data:image/png;base64,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)"
      ]
    },
    {
      "cell_type": "code",
      "metadata": {
        "id": "rY11M3I1fmZ_"
      },
      "source": [
        "# Don't run this\n",
        "if test_condition:\n",
        "  # if condition is true\n",
        "  execute a statement\n",
        "else:\n",
        "  # if condition is false\n",
        "  execute a statement"
      ],
      "execution_count": null,
      "outputs": []
    },
    {
      "cell_type": "markdown",
      "metadata": {
        "id": "c9pTevuYfsOb"
      },
      "source": [
        "Try out an <code>if...else</code> statement that prints 'a is greater than b', if a value 'a' is greater than another value 'b' otherwise it should print 'a is smaller than b'.\n"
      ]
    },
    {
      "cell_type": "code",
      "metadata": {
        "id": "UPG672eegEPZ"
      },
      "source": [
        ""
      ],
      "execution_count": null,
      "outputs": []
    },
    {
      "cell_type": "markdown",
      "metadata": {
        "id": "5VkEhl0zrHDF"
      },
      "source": [
        "## <code>if...elif</code> statement"
      ]
    },
    {
      "cell_type": "markdown",
      "metadata": {
        "id": "ou6p1o88gR70"
      },
      "source": [
        "A variation of the <code>if...else</code> statement is an <code>if...elif</code> statement. \n",
        "\n",
        "The <code>if...elif</code> statement allows you to create a chain of <code>if</code> statements. The <code>if</code> statements are evaluated in order until one of the <code>if</code> expressions is true or the end of the <code>if...elif</code> chain is reached.  If the end of the <code>if...elif</code> chain is reached without a true expression, no code blocks are executed or an <code>else</code> statement can also be added at the end. The visual representation and syntax for an <code>if...elif</code> statement is shown below.\n",
        "\n",
        "> Keep in mind that the order in which you write the <code>if</code> statements becomes important when you write multiple statements, so you should think carefully about the flow when writing more than one <code>if</code< statements."
      ]
    },
    {
      "cell_type": "markdown",
      "metadata": {
        "id": "rh-wAQVkqad8"
      },
      "source": [
        "\n",
        "![image.png](data:image/png;base64,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)"
      ]
    },
    {
      "cell_type": "code",
      "metadata": {
        "id": "Fg8I-mQZgR72"
      },
      "source": [
        "# Don't run this\n",
        "if test_condition:\n",
        "  # if first condition is true\n",
        "  execute a statement\n",
        "  # exit\n",
        "elif:\n",
        "  # if second condition is true\n",
        "  execute a statement\n",
        "  # exit\n",
        "else:\n",
        "  # if none of the conditions are true\n",
        "  execute a statement\n",
        "  # exit"
      ],
      "execution_count": null,
      "outputs": []
    },
    {
      "cell_type": "markdown",
      "metadata": {
        "id": "f2aDZqRLgR73"
      },
      "source": [
        "Try out an <code>if...elif</code> statement that prints 'a is greater than b', if a value 'a' is greater than another value 'b', or prints 'a is equal to b' if 'a' and 'b' have the same value, otherwise it should print 'a is smaller than b'.\n"
      ]
    },
    {
      "cell_type": "code",
      "metadata": {
        "id": "KFG-hVvTgR74"
      },
      "source": [
        ""
      ],
      "execution_count": null,
      "outputs": []
    },
    {
      "cell_type": "markdown",
      "metadata": {
        "id": "bqUFbcwArnrn"
      },
      "source": [
        "> You can also combine multiple comparison operators in the test conditions for more complex <code>if...else</code> statements."
      ]
    },
    {
      "cell_type": "markdown",
      "metadata": {
        "id": "SCvEwAF3rRca"
      },
      "source": [
        "## <code>for</code> loop"
      ]
    },
    {
      "cell_type": "markdown",
      "metadata": {
        "id": "Mslo99JTVD9u"
      },
      "source": [
        "The <code>for</code> loop in Python is used to iterate over a sequence (list, tuple, string) or other iterable objects.\n",
        "\n",
        "The syntax of a <code>for</code> loop is shown below."
      ]
    },
    {
      "cell_type": "code",
      "metadata": {
        "id": "10UaUWptVOc5"
      },
      "source": [
        "# Don't run this\n",
        "for val in sequence:\n",
        "  execute a statement"
      ],
      "execution_count": null,
      "outputs": []
    },
    {
      "cell_type": "markdown",
      "metadata": {
        "id": "-ZzyxmTPVh3E"
      },
      "source": [
        "Let's say you are given a list of numbers 'a', write a for loop that iterates over each element and returns the value."
      ]
    },
    {
      "cell_type": "code",
      "metadata": {
        "id": "dH2GmidkV828"
      },
      "source": [
        ""
      ],
      "execution_count": null,
      "outputs": []
    },
    {
      "cell_type": "markdown",
      "metadata": {
        "id": "NDk8jNyrW22a"
      },
      "source": [
        "Now write a loop using both <code>for</code> and <code>if...else</code> to find every number between 1 and 100 that is divisible by 6 and 7. \n",
        "- If it is divisible by both <code>6</code> and <code>7</code> it should print <code>\"x is divisible by 6 and 7\"</code> where 'x' is the number. \n",
        "- If it is divisible by only <code>6</code> but not <code>7</code> it should print <code>\"x is divisible by 6 but not 7\"</code>\n",
        "- If it is divisible by only <code>7</code> and not <code>6</code> it should print <code>\"x is divisible by 6 but not 7\"</code>\n",
        "\n",
        "> You can use the <code>range()</code> function in for loops to iterate through a sequence of numbers. It can be combined with the <code>len()</code> function to iterate through a sequence using indexing.\n",
        ">> <code>range(len(sequence))</code>"
      ]
    },
    {
      "cell_type": "code",
      "metadata": {
        "id": "FH8hvVO3EK8_"
      },
      "source": [
        ""
      ],
      "execution_count": null,
      "outputs": []
    },
    {
      "cell_type": "markdown",
      "metadata": {
        "id": "qgzp306kZ5pU"
      },
      "source": [
        "In a <code>for</code> loop (this will also apply to the <code>while</code> loop ahead):\n",
        "- The <code>break</code> statement is used to stop the loop before it has looped through all the items.\n",
        "- The <code>continue</code> statements is used to stop the current iteration of the loop, and continue from the next."
      ]
    },
    {
      "cell_type": "markdown",
      "metadata": {
        "id": "pnGn7E7kbJw_"
      },
      "source": [
        "Complete the for loop below to print each character in the string skip over the character <code>#</code> and stop the loop when it reaches the character <code>!</code>."
      ]
    },
    {
      "cell_type": "code",
      "metadata": {
        "id": "FlCCvMNCWAJv"
      },
      "source": [
        "string = '@ separates # and ! on the keyboard'\n",
        "\n",
        "for i in string:\n",
        "  # Enter code below\n",
        "  \n",
        "  print(i, end=\", \")"
      ],
      "execution_count": null,
      "outputs": []
    },
    {
      "cell_type": "markdown",
      "metadata": {
        "id": "jV4i6SIIeWFG"
      },
      "source": [
        "## <code>while</code> loop"
      ]
    },
    {
      "cell_type": "markdown",
      "metadata": {
        "id": "dkjvMNdCefFm"
      },
      "source": [
        "The <code>while</code> loop is used to execute a statement as long as a given test condition is true.\n",
        "\n",
        "The syntax for a <code>while</code> loop is given below."
      ]
    },
    {
      "cell_type": "code",
      "metadata": {
        "id": "gR1D_PvOeyYF"
      },
      "source": [
        "# Don't run this\n",
        "i = 0                   # counter variable\n",
        "while test_condition:\n",
        "  execute a statement\n",
        "  i = i + 1             # increment to the counter"
      ],
      "execution_count": null,
      "outputs": []
    },
    {
      "cell_type": "markdown",
      "metadata": {
        "id": "h_56fRM3fp0J"
      },
      "source": [
        "Write a <code>while</code> to print the squares of numbers starting from 1 as long as the square is smaller than 200, but skips iteration if the square is equal to 100.\n",
        "\n",
        "> Keep in mind that you have to initialise or declare a counter variable to be used before the loop begins and to increment that variable inside the loop to avoid an infinite loop."
      ]
    },
    {
      "cell_type": "code",
      "metadata": {
        "id": "_L2jMIVdZja3"
      },
      "source": [
        ""
      ],
      "execution_count": null,
      "outputs": []
    },
    {
      "cell_type": "markdown",
      "metadata": {
        "id": "xVEJ2xDfeHui"
      },
      "source": [
        "In both loops an additional <code>else</code> block can also be included. The <code>else</code> part is executed if the condition in the while loop evaluates to <code>False</code>."
      ]
    },
    {
      "cell_type": "markdown",
      "metadata": {
        "id": "U2IAL_xgz62Y"
      },
      "source": [
        "## Implement Newton-Raphson method to find the root of a function."
      ]
    },
    {
      "cell_type": "markdown",
      "metadata": {
        "id": "ibVhyqki0BRC"
      },
      "source": [
        "The Newton-Raphson method is a numerical method to find a good approximation of the root of a function. The method involves starting with a function $f(x)$, its derivative $f'(x)$ and an initial guess $x_0$ for the root of the function that is resonable close to the actual root.\n",
        "\n",
        "The point where the tangent $(f'(x))$ of the function $f$ at $(x_0, f(x_0))$ crosses the x-axis will be a better guess of the root compared to $x_0$, this point can be called $x_1$ with coordinates $(x_1, 0)$. This is formulated as:\n",
        "\n",
        "$\n",
        "\\begin{align}\n",
        "f'(x_0) & = \\frac{dy}{dx} \\\\\n",
        "f'(x_0) & = \\frac{f(x_0) - 0}{x_0 - x_1} \\\\\n",
        "x_1 & = x_0 - \\frac{f(x_0)}{f'(x_0)}\n",
        "\\end{align}\n",
        "$\n",
        "\n",
        "This can be repeated and generalised to:\n",
        "$\n",
        "\\begin{align}\n",
        "x_{i+1} & = x_i - \\frac{f(x_i)}{f'(x_i)}\n",
        "\\end{align}\n",
        "$"
      ]
    },
    {
      "cell_type": "markdown",
      "metadata": {
        "id": "TSKskhxRxq3K"
      },
      "source": [
        "![NewtRaph](https://upload.wikimedia.org/wikipedia/commons/e/e0/NewtonIteration_Ani.gif)"
      ]
    },
    {
      "cell_type": "code",
      "metadata": {
        "id": "-CdkB1ePnr2Z"
      },
      "source": [
        ""
      ],
      "execution_count": null,
      "outputs": []
    },
    {
      "cell_type": "code",
      "metadata": {
        "id": "vofviZ6ZndhU"
      },
      "source": [
        "import time\n",
        "\n",
        "start = time.time()\n",
        "# your function\n",
        "\n",
        "end = time.time()\n",
        "print(f\"Runtime of the program is {end - start}\")"
      ],
      "execution_count": null,
      "outputs": []
    },
    {
      "cell_type": "code",
      "metadata": {
        "id": "VcGE-8V3nd6h"
      },
      "source": [
        ""
      ],
      "execution_count": null,
      "outputs": []
    },
    {
      "cell_type": "code",
      "metadata": {
        "id": "0GuZVfyXn5Gv"
      },
      "source": [
        ""
      ],
      "execution_count": null,
      "outputs": []
    }
  ]
}