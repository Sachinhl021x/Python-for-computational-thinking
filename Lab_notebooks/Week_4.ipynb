{
  "nbformat": 4,
  "nbformat_minor": 0,
  "metadata": {
    "colab": {
      "name": "Week4_Solution.ipynb",
      "provenance": [],
      "collapsed_sections": []
    },
    "kernelspec": {
      "name": "python3",
      "display_name": "Python 3"
    },
    "language_info": {
      "name": "python"
    }
  },
  "cells": [
    {
      "cell_type": "markdown",
      "metadata": {
        "id": "xtQGncHdrzod"
      },
      "source": [
        "# **Background**\n",
        "\n",
        "Computers running Linux these days consist of a file called \"/etc/shadow\", which contains usernames and passwords. For security purpose passwords would be encrypted. When a user logs into these systems by typing a username and password, the latter is encrypted with the very same hash function, and the result is compared against the username’s entry in \"/etc/shadow\". If the two hashes match, the user is allowed in. \n",
        "\n",
        "If you’ve ever forgotten some password, you might have been told that tech support can’t look up your password but can change it for you.\n",
        "\n",
        "By design odds are that’s because tech support can only see, if anything at all, a hash of your password, not your password itself and they can create a new hash for you.\n",
        "\n",
        "Even though passwords in \"/etc/shadow\" are stored as hash value, the hash function and system design is not always that strong with possible adversarial attack. If skilled programmers/hackers gain access to the file containing hash values, they can guess (and check) users' passwords using techniques such as brute force method (i.e., trying all possible passwords)."
      ]
    },
    {
      "cell_type": "markdown",
      "metadata": {
        "id": "8NaZHHDDwZI6"
      },
      "source": [
        "# Implement a program to generate all possible sequence (passwords) that can be formed from the given characters.\n",
        "\n",
        "## Specification\n",
        "   1. For learning purpose we are assuming passwords will be of three characters and restrict ourselves to the alphabets\n",
        "   2. White spaces are not allowed and user are expected to enter a string of 3 different characters. For simplicity, no need to check for the condition."
      ]
    },
    {
      "cell_type": "markdown",
      "metadata": {
        "id": "0FtyS-2B-Pwd"
      },
      "source": [
        "## Write a function that takes string of three characters. if it's shorter than or bigger than three characters ask for correct input.\n",
        "\n",
        "# Use variable.replace() function to remove the whitespaces before and after the string.\n",
        "\n",
        "Note: it is possible to have white space in between the string which is not accepted for the passowrd string. Here we are not writing exhaustive checkpoints to make sure password has required characters."
      ]
    },
    {
      "cell_type": "code",
      "metadata": {
        "id": "fkUWdoFwDuq3"
      },
      "source": [
        "import time\n",
        "start_time = time.time()"
      ],
      "execution_count": null,
      "outputs": []
    },
    {
      "cell_type": "code",
      "metadata": {
        "id": "nst4-5Lv4NJs"
      },
      "source": [
        "#Define a function to get the 3 unique characters b/w a-f\n",
        "def getchar():\n",
        "  strper = input('Enter three characters between a-c:').replace(\" \", \"\")\n",
        "  while len(strper)!=3:\n",
        "    strper = input('Enter three characters only between a-f :')\n",
        "  return strper"
      ],
      "execution_count": null,
      "outputs": []
    },
    {
      "cell_type": "code",
      "metadata": {
        "colab": {
          "base_uri": "https://localhost:8080/"
        },
        "id": "bRr72hDjAQRT",
        "outputId": "bc3dfe2f-8774-4343-d2cc-d34b08592a7d"
      },
      "source": [
        "#Call a function defined above\n",
        "strp = getchar()"
      ],
      "execution_count": null,
      "outputs": [
        {
          "name": "stdout",
          "output_type": "stream",
          "text": [
            "Enter three characters between a-f:abc\n"
          ]
        }
      ]
    },
    {
      "cell_type": "markdown",
      "metadata": {
        "id": "sY-Pzvoi-35a"
      },
      "source": [
        "## Implent a function that prints all possible password sequence with repetition of characters using for loop\n",
        "1. This function should take \"strp\" variable as input\n",
        "2. Use for loop iterator function and print all possible password sequence \n",
        "\n",
        "Note: Notice the time taken by the for loop iterator to get all password sequence "
      ]
    },
    {
      "cell_type": "code",
      "metadata": {
        "id": "jYgz96uutClD"
      },
      "source": [
        "def passSeqf(strp):\n",
        "  # create list variable to append\n",
        "  perm = []\n",
        "  print(\"_____ Printing the sequence to understand the computation_____\")\n",
        "  #Iterate over for possible character of 1st position\n",
        "  for c1 in range(len(strp)):\n",
        "    #Iterate over for possible character of 2nd position\n",
        "    for c2 in range(len(strp)):\n",
        "      #Iterate over for possible character of 3rd position\n",
        "        for c3 in range(len(strp)):\n",
        "          #concatenate the characters before printing\n",
        "            print(strp[c1]+strp[c2]+strp[c3])\n",
        "          #concatenate the characters before appending it to the perm list variable\n",
        "            perm.append(strp[c1]+strp[c2]+strp[c3])\n",
        "  #obsserve the time taken for this function\n",
        "  print(\"\\nTime taken to execute the function is ______  %s seconds ______\" % (time.time() - start_time))\n",
        "  return perm"
      ],
      "execution_count": null,
      "outputs": []
    },
    {
      "cell_type": "code",
      "metadata": {
        "colab": {
          "base_uri": "https://localhost:8080/"
        },
        "id": "y6icUjDnPVz_",
        "outputId": "2daaad80-44f9-4476-8e03-7727001959ea"
      },
      "source": [
        "permf = passSeqf(strp)"
      ],
      "execution_count": null,
      "outputs": [
        {
          "output_type": "stream",
          "name": "stdout",
          "text": [
            "_____ Printing the sequence to understand the computation_____\n",
            "aaa\n",
            "aab\n",
            "aac\n",
            "aba\n",
            "abb\n",
            "abc\n",
            "aca\n",
            "acb\n",
            "acc\n",
            "baa\n",
            "bab\n",
            "bac\n",
            "bba\n",
            "bbb\n",
            "bbc\n",
            "bca\n",
            "bcb\n",
            "bcc\n",
            "caa\n",
            "cab\n",
            "cac\n",
            "cba\n",
            "cbb\n",
            "cbc\n",
            "cca\n",
            "ccb\n",
            "ccc\n",
            "\n",
            "Time taken to execute the function is ______  6.213121175765991 seconds ______\n"
          ]
        }
      ]
    },
    {
      "cell_type": "markdown",
      "metadata": {
        "id": "aA9HSxoYRwja"
      },
      "source": [
        "#Implement the permutation with repetition (cartesian product/product function) using built in [itertools](https://docs.python.org/3/library/itertools.html) package"
      ]
    },
    {
      "cell_type": "code",
      "metadata": {
        "id": "EGGOxCYR2ZXw"
      },
      "source": [
        "# Import the product function from itertools \n",
        "from itertools import product\n",
        "\n",
        "# define a function that takes 'strp' as input\n",
        "def passSeqIter(strp):\n",
        "  # creating an empty list\n",
        "  perm = []\n",
        "  # iterate over the characters to create a sequence with of length 3\n",
        "  for lst in product(strp, repeat = 3):\n",
        "      # \"\".join method is a string method returning list which will be discussed in next week\n",
        "      print(\"\".join(lst))\n",
        "\n",
        "      # append it to the list\n",
        "      perm.append(\"\".join(lst))\n",
        "    # observe the time taken for this function\n",
        "  print(\"\\nTime taken to execute the function is ______  %s seconds ______\" % (time.time() - start_time))\n",
        "  return perm"
      ],
      "execution_count": null,
      "outputs": []
    },
    {
      "cell_type": "code",
      "metadata": {
        "colab": {
          "base_uri": "https://localhost:8080/"
        },
        "id": "4I47VdohO2DU",
        "outputId": "cc3660d9-84fc-4a5f-d709-f63114a46eb2"
      },
      "source": [
        "permbitr = passSeqIter(strp)"
      ],
      "execution_count": null,
      "outputs": [
        {
          "output_type": "stream",
          "name": "stdout",
          "text": [
            "aaa\n",
            "aab\n",
            "aac\n",
            "aba\n",
            "abb\n",
            "abc\n",
            "aca\n",
            "acb\n",
            "acc\n",
            "baa\n",
            "bab\n",
            "bac\n",
            "bba\n",
            "bbb\n",
            "bbc\n",
            "bca\n",
            "bcb\n",
            "bcc\n",
            "caa\n",
            "cab\n",
            "cac\n",
            "cba\n",
            "cbb\n",
            "cbc\n",
            "cca\n",
            "ccb\n",
            "ccc\n",
            "\n",
            "Time taken to execute the function is ______  6.263088941574097 seconds ______\n"
          ]
        }
      ]
    },
    {
      "cell_type": "markdown",
      "metadata": {
        "id": "ahINu0WSTDgt"
      },
      "source": [
        "# Let's assume that each password has been hashed using python built-in hash function (not MD5-based crypt function).\n",
        "\n",
        "### Now your task is to iterate over the different sequence generated above and calculate the hash value for the same by passing each sequence to hash function and store the hash value in dictionary"
      ]
    },
    {
      "cell_type": "code",
      "metadata": {
        "colab": {
          "base_uri": "https://localhost:8080/"
        },
        "id": "2XiBeaMhTisH",
        "outputId": "6daffaed-6b8e-402e-ca6f-d881514e6eb5"
      },
      "source": [
        "# compute the hash value of different sequence of characters using hash function and add those key, values pair to the dictionary\n",
        "hash_dict=dict()\n",
        "for i in range(len(permf)):\n",
        "  #hash() is only deterministic throughout the same run, you have no guarantee it will return the same hash in different runs. \n",
        "  hash_dict[permf[i]]=hash(permf[i])\n",
        "\n",
        "# Print \n",
        "print(hash_dict)\n",
        "\n",
        "\n",
        "#Note: Use hashlib while in practice which is determinsitic instead of hash() function."
      ],
      "execution_count": null,
      "outputs": [
        {
          "output_type": "stream",
          "name": "stdout",
          "text": [
            "{'aaa': 1176177262258229402, 'aab': -9007801162572404626, 'aac': -3103135370082020019, 'aba': -7528375029746724820, 'abb': -6732428939911163863, 'abc': 9156966135994035926, 'aca': 3429900151861244173, 'acb': -2155258795884078344, 'acc': -1852585997814675748, 'baa': -3921043700995765295, 'bab': -4846348901585385102, 'bac': -4315710217801910320, 'bba': -5854516596859005049, 'bbb': -9194636556757766998, 'bbc': -311477865260451768, 'bca': 1082296160903063687, 'bcb': -3982903864439379722, 'bcc': -8097659692474059097, 'caa': -5351194028667984727, 'cab': 5250125364175721138, 'cac': 8854891089716508039, 'cba': -2735108280450777289, 'cbb': 7752282361111909536, 'cbc': 2378013924494566420, 'cca': 2507158233506153169, 'ccb': -7866658778929556534, 'ccc': 3353002860268000442}\n"
          ]
        }
      ]
    },
    {
      "cell_type": "markdown",
      "metadata": {
        "id": "ZeHhM58HU9DT"
      },
      "source": [
        "## finally check if the hash value computed above matches the hash value of -5570970138075315644, if matched print the corresponding sequence/key.\n"
      ]
    },
    {
      "cell_type": "code",
      "metadata": {
        "id": "XI0oFGa8cEiD"
      },
      "source": [
        "for key, value in hash_dict.items():\n",
        "  if value ==  ------ : #Enter and check for hash value of \"bca\" sequence if input is between abc. Note: This hash will change everytime kernel restarts\n",
        "    print(\"\\nThe password sequence is\",key)"
      ],
      "execution_count": null,
      "outputs": []
    },
    {
      "cell_type": "markdown",
      "metadata": {
        "id": "ZmqeOYVmVUxv"
      },
      "source": [
        "## Congratulations you have come soo far, this week you learnt the broad idea of how computers store passwords, how hackers use one of the technique to crack the passwords, and computing efficicency of different alogrithms  "
      ]
    },
    {
      "cell_type": "markdown",
      "metadata": {
        "id": "u57lbWD4gT29"
      },
      "source": [
        "## Implement Newton-Raphson method to find the root of a function."
      ]
    },
    {
      "cell_type": "markdown",
      "metadata": {
        "id": "0xYUuF8rgaKs"
      },
      "source": [
        "The Newton-Raphson method is a numerical method to find a good approximation of the root of a function. The method involves starting with a function $f(x)$, its derivative $f'(x)$ and an initial guess $x_0$ for the root of the function that is resonable close to the actual root.\n",
        "\n",
        "The point where the tangent $(f'(x))$ of the function $f$ at $(x_0, f(x_0))$ crosses the x-axis will be a better guess of the root compared to $x_0$, this point can be called $x_1$ with coordinates $(x_1, 0)$. This is formulated as:\n",
        "\n",
        "$\n",
        "\\begin{align}\n",
        "f'(x_0) & = \\frac{dy}{dx} \\\\\n",
        "f'(x_0) & = \\frac{f(x_0) - 0}{x_0 - x_1} \\\\\n",
        "x_1 & = x_0 - \\frac{f(x_0)}{f'(x_0)}\n",
        "\\end{align}\n",
        "$\n",
        "\n",
        "This can be repeated and generalised to:\n",
        "$\n",
        "\\begin{align}\n",
        "x_{i+1} & = x_i - \\frac{f(x_i)}{f'(x_i)}\n",
        "\\end{align}\n",
        "$"
      ]
    },
    {
      "cell_type": "markdown",
      "metadata": {
        "id": "4OKMs5Fgghj0"
      },
      "source": [
        "![NewtRaph](https://upload.wikimedia.org/wikipedia/commons/e/e0/NewtonIteration_Ani.gif)"
      ]
    },
    {
      "cell_type": "markdown",
      "metadata": {
        "id": "MbYHEjIggnUE"
      },
      "source": [
        "### Task\n",
        "- Define the function $f(x)$ and its derivative $f'(x)$ for a given value of *x*.\n",
        "- Compute the fraction $\\frac{f(x_i)}{f'(x_i)}$.\n",
        "- For an allowed threshold value $\\varepsilon$, update the value of *x*."
      ]
    },
    {
      "cell_type": "code",
      "metadata": {
        "id": "wPQHLIC5czXp"
      },
      "source": [
        "# Function: x^3 - x^2 + 2\n",
        "def func(x):\n",
        "    return x * x * x - x * x + 2\n",
        " \n",
        "# Derivative: 3x^2 - 2x\n",
        "def derivFunc(x):\n",
        "    return 3 * x * x - 2 * x\n",
        " \n",
        "def newtonRaphson(x):\n",
        "    h = func(x) / derivFunc(x)\n",
        "    while abs(h) >= 0.0001:\n",
        "        h = func(x)/derivFunc(x)\n",
        "        x = x - h\n",
        "     \n",
        "    print(\"The value of the root is : \", \"%.4f\"% x)\n",
        " \n",
        "x0 = -20 # Initial values assumed\n",
        "newtonRaphson(x0)"
      ],
      "execution_count": null,
      "outputs": []
    },
    {
      "cell_type": "markdown",
      "metadata": {
        "id": "NPXk15Bcwswi"
      },
      "source": [
        "# Peer review\n",
        "\n",
        "Grade the Newton Raphson solution made by the person sitting next to you (just one) and add the grade to this [sheet](https://docs.google.com/spreadsheets/d/1vJ5faPlv7ka4liigoBGQYlZiZqQLeJCiij1z-hDfF58/edit?usp=sharing).\n",
        "\n",
        "Grading scheme (1-5):\n",
        "- 2 marks: **Readability of code**; how contexual is the code, comments explaining what the code is doing.\n",
        "- 3 marks: **Working of the code**; whether or not the code works, how cleanly it is written and how much effort has been put into making it work."
      ]
    }
  ]
}