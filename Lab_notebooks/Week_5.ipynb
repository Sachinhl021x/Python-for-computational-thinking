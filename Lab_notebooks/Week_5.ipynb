{
  "nbformat": 4,
  "nbformat_minor": 0,
  "metadata": {
    "colab": {
      "name": "Week_5_Sec1.ipynb",
      "provenance": [],
      "collapsed_sections": [
        "xig8lOEKOHCD"
      ]
    },
    "kernelspec": {
      "name": "python3",
      "display_name": "Python 3"
    },
    "language_info": {
      "name": "python"
    }
  },
  "cells": [
    {
      "cell_type": "markdown",
      "metadata": {
        "id": "RcOfumHDj4SG"
      },
      "source": [
        "#**Structured Data Types**\n",
        "\n",
        "Computers need to efficiently store and process data, as fast and accurately accessing the data is an important criterion. **Data structures** are fundamental concepts of computer science which helps in writing efficient programs. In this lab, we will be focusing on Python specific **built-in data structures** only which are commonly used in data-science.\n",
        "\n",
        "#Python has four common built-in data structures:\n",
        "\n",
        "1. **Lists**: Lists are used to store multiple items in a single variable.\n",
        "\n",
        "2. **Tuples**: A tuple is a collection which is ordered and unchangeable.\n",
        "\n",
        "3. **Set**: A set is a collection which is both unordered and unindexed.\n",
        "\n",
        "4. **Dictionary**: A dictionary is a collection which is ordered*, changeable and does not allow duplicates.\n",
        "\n",
        "These built-in data structures differ based on mutability and order. Mutability refers to the ability to change(modify, add, or delete) an object once it’s created, while Immutable objects cannot be modified after their creation. Order refers to whether the position of an element can be used to access the element.\n"
      ]
    },
    {
      "cell_type": "markdown",
      "metadata": {
        "id": "x2hlbMq2NISa"
      },
      "source": [
        "# Lists\n",
        "\n",
        "List is as an ordered collection of items, and it is one of the essential data structures. The term “ordered collections” means that each item in a list comes with an order that uniquely identifies them.\n",
        "\n",
        "* Lists can be nested\n",
        "* Lists are mutable"
      ]
    },
    {
      "cell_type": "markdown",
      "metadata": {
        "id": "j8HHXzNco62P"
      },
      "source": [
        "##Creating list"
      ]
    },
    {
      "cell_type": "code",
      "metadata": {
        "id": "cKa6G9A1Wg6k"
      },
      "source": [
        "list1 = [\"abc\", 34, True, 40, \"male\"]"
      ],
      "execution_count": null,
      "outputs": []
    },
    {
      "cell_type": "code",
      "metadata": {
        "id": "aw4XvlzYoigF",
        "colab": {
          "base_uri": "https://localhost:8080/"
        },
        "outputId": "bbc4602c-3166-4bd5-8857-83401deb45be"
      },
      "source": [
        "list2 =list(\"Hello123\")\n",
        "print(list2)"
      ],
      "execution_count": null,
      "outputs": [
        {
          "output_type": "stream",
          "name": "stdout",
          "text": [
            "['H', 'e', 'l', 'l', 'o', '1', '2', '3']\n"
          ]
        }
      ]
    },
    {
      "cell_type": "code",
      "metadata": {
        "colab": {
          "base_uri": "https://localhost:8080/"
        },
        "id": "fSnWwCGBoqEz",
        "outputId": "09780045-5c11-4e71-83ba-46e30cf81fa2"
      },
      "source": [
        "type(list1)"
      ],
      "execution_count": null,
      "outputs": [
        {
          "output_type": "execute_result",
          "data": {
            "text/plain": [
              "list"
            ]
          },
          "metadata": {},
          "execution_count": 7
        }
      ]
    },
    {
      "cell_type": "code",
      "metadata": {
        "colab": {
          "base_uri": "https://localhost:8080/"
        },
        "id": "TBo5IeHlpC6P",
        "outputId": "51b5369e-0149-4564-9be0-ee3833f29064"
      },
      "source": [
        "list3 = list((\"apple\", \"microsoft\", \"linux\", \"samsung\")) # note the double round-brackets\n",
        "print(list3)"
      ],
      "execution_count": null,
      "outputs": [
        {
          "output_type": "stream",
          "name": "stdout",
          "text": [
            "['apple', 'microsoft', 'linux', 'samsung']\n"
          ]
        }
      ]
    },
    {
      "cell_type": "markdown",
      "metadata": {
        "id": "Dtnklniipdhe"
      },
      "source": [
        "## Acessing the list"
      ]
    },
    {
      "cell_type": "code",
      "metadata": {
        "colab": {
          "base_uri": "https://localhost:8080/"
        },
        "id": "lJlBi1pRpDeR",
        "outputId": "72fab7a8-ecf6-4799-e1b1-52f8fb5915f0"
      },
      "source": [
        "print(list3[1])"
      ],
      "execution_count": null,
      "outputs": [
        {
          "output_type": "stream",
          "name": "stdout",
          "text": [
            "microsoft\n"
          ]
        }
      ]
    },
    {
      "cell_type": "code",
      "metadata": {
        "colab": {
          "base_uri": "https://localhost:8080/"
        },
        "id": "vQb8osjMpp-l",
        "outputId": "e9a1e764-cec3-4096-80db-8a5fdbf6f9c0"
      },
      "source": [
        "print(list3[-1])"
      ],
      "execution_count": null,
      "outputs": [
        {
          "output_type": "stream",
          "name": "stdout",
          "text": [
            "samsung\n"
          ]
        }
      ]
    },
    {
      "cell_type": "code",
      "metadata": {
        "colab": {
          "base_uri": "https://localhost:8080/"
        },
        "id": "d5WTsZiDpc0c",
        "outputId": "d3dde29b-122e-4ff9-8ee4-a1cf2a4a20c5"
      },
      "source": [
        "print(list3[0:2])"
      ],
      "execution_count": null,
      "outputs": [
        {
          "output_type": "stream",
          "name": "stdout",
          "text": [
            "['apple', 'microsoft']\n"
          ]
        }
      ]
    },
    {
      "cell_type": "code",
      "metadata": {
        "colab": {
          "base_uri": "https://localhost:8080/"
        },
        "id": "obiEVOU-pnny",
        "outputId": "09c88e49-c35d-4ff0-a937-fc25737661a2"
      },
      "source": [
        "print(list3[2:])"
      ],
      "execution_count": null,
      "outputs": [
        {
          "output_type": "stream",
          "name": "stdout",
          "text": [
            "['linux', 'samsung']\n"
          ]
        }
      ]
    },
    {
      "cell_type": "markdown",
      "metadata": {
        "id": "oNltHHx3qUWJ"
      },
      "source": [
        "## Checking if **item** is in list"
      ]
    },
    {
      "cell_type": "code",
      "metadata": {
        "colab": {
          "base_uri": "https://localhost:8080/"
        },
        "id": "ctilgdWepwOk",
        "outputId": "bbcc07e9-7942-4194-94d8-b3c3d25e132d"
      },
      "source": [
        "if \"apple\" in list3:\n",
        "  print(\"Yes, 'apple' is in the list\") "
      ],
      "execution_count": null,
      "outputs": [
        {
          "output_type": "stream",
          "name": "stdout",
          "text": [
            "Yes, 'apple' is in the list\n"
          ]
        }
      ]
    },
    {
      "cell_type": "markdown",
      "metadata": {
        "id": "_2AI4N-zqgw8"
      },
      "source": [
        "## List is mutable so we can change the items\n",
        "\n"
      ]
    },
    {
      "cell_type": "code",
      "metadata": {
        "colab": {
          "base_uri": "https://localhost:8080/"
        },
        "id": "m_hTKTkip4Vk",
        "outputId": "7a580c19-7f27-444b-e675-eac80e11ae1d"
      },
      "source": [
        "list3[1] = \"Lenovo\"\n",
        "print(list3)"
      ],
      "execution_count": null,
      "outputs": [
        {
          "output_type": "stream",
          "name": "stdout",
          "text": [
            "['apple', 'Lenovo', 'linux', 'samsung']\n"
          ]
        }
      ]
    },
    {
      "cell_type": "code",
      "metadata": {
        "colab": {
          "base_uri": "https://localhost:8080/"
        },
        "id": "aXp4sTogqv9R",
        "outputId": "92d4da80-681e-49d2-b9d7-1dbfbcb4e891"
      },
      "source": [
        "list3[1:2] = [\"sony\", \"microsoft\"]\n",
        "print(list3)"
      ],
      "execution_count": null,
      "outputs": [
        {
          "output_type": "stream",
          "name": "stdout",
          "text": [
            "['apple', 'sony', 'microsoft', 'linux', 'samsung']\n"
          ]
        }
      ]
    },
    {
      "cell_type": "markdown",
      "metadata": {
        "id": "8QvkTDJUrLsu"
      },
      "source": [
        "## List has insert method to add the element at the index"
      ]
    },
    {
      "cell_type": "code",
      "metadata": {
        "colab": {
          "base_uri": "https://localhost:8080/"
        },
        "id": "sDH1lItVrKzj",
        "outputId": "9ec7bdb1-4644-4e6d-c98f-e5fd774d87e6"
      },
      "source": [
        "list3.insert(5, \"Google\")\n",
        "print(list3)"
      ],
      "execution_count": null,
      "outputs": [
        {
          "output_type": "stream",
          "name": "stdout",
          "text": [
            "['apple', 'sony', 'microsoft', 'linux', 'samsung', 'Google']\n"
          ]
        }
      ]
    },
    {
      "cell_type": "markdown",
      "metadata": {
        "id": "Qg8i8GIVr0Dg"
      },
      "source": [
        "## In order to add data/element into the list, append is most commonly used list method"
      ]
    },
    {
      "cell_type": "code",
      "metadata": {
        "colab": {
          "base_uri": "https://localhost:8080/"
        },
        "id": "Vy4TQopEr6sA",
        "outputId": "dff4f5e7-2610-4518-b67a-68f33f877ce9"
      },
      "source": [
        "list3.append(\"dell\")\n",
        "print(list3)"
      ],
      "execution_count": null,
      "outputs": [
        {
          "output_type": "stream",
          "name": "stdout",
          "text": [
            "['apple', 'sony', 'microsoft', 'linux', 'samsung', 'Google', 'dell']\n"
          ]
        }
      ]
    },
    {
      "cell_type": "markdown",
      "metadata": {
        "id": "1W8MVAhHsa0m"
      },
      "source": [
        "##The pop() method which is used to remove the specified index."
      ]
    },
    {
      "cell_type": "code",
      "metadata": {
        "colab": {
          "base_uri": "https://localhost:8080/"
        },
        "id": "y_hoM-k4sSzB",
        "outputId": "1ae04641-c900-4adf-d203-58cd91c520cb"
      },
      "source": [
        "list3.pop(1)\n",
        "print(list3)"
      ],
      "execution_count": null,
      "outputs": [
        {
          "output_type": "stream",
          "name": "stdout",
          "text": [
            "['apple', 'microsoft', 'linux', 'samsung', 'Google', 'dell']\n"
          ]
        }
      ]
    },
    {
      "cell_type": "markdown",
      "metadata": {
        "id": "qdtPGwKfsvng"
      },
      "source": [
        "## del method to delete list by index"
      ]
    },
    {
      "cell_type": "code",
      "metadata": {
        "colab": {
          "base_uri": "https://localhost:8080/"
        },
        "id": "WrjXnVxIsnqM",
        "outputId": "d1277467-e72f-4995-bc8e-94958c956eca"
      },
      "source": [
        "del list3[0]\n",
        "print(list3)"
      ],
      "execution_count": null,
      "outputs": [
        {
          "output_type": "stream",
          "name": "stdout",
          "text": [
            "['microsoft', 'linux', 'samsung', 'Google', 'dell']\n"
          ]
        }
      ]
    },
    {
      "cell_type": "markdown",
      "metadata": {
        "id": "siqvNt_Bs6_-"
      },
      "source": [
        "## Accessing the list items through iterator"
      ]
    },
    {
      "cell_type": "code",
      "metadata": {
        "colab": {
          "base_uri": "https://localhost:8080/"
        },
        "id": "xIvwUDyys01M",
        "outputId": "dcbee212-9439-4516-9716-0820bf77f5da"
      },
      "source": [
        "for x in list3:\n",
        "  print(x) "
      ],
      "execution_count": null,
      "outputs": [
        {
          "output_type": "stream",
          "name": "stdout",
          "text": [
            "microsoft\n",
            "linux\n",
            "samsung\n",
            "Google\n",
            "dell\n"
          ]
        }
      ]
    },
    {
      "cell_type": "markdown",
      "metadata": {
        "id": "so6goIRLtPwG"
      },
      "source": [
        "## Accessing the list items using index through iterator"
      ]
    },
    {
      "cell_type": "code",
      "metadata": {
        "colab": {
          "base_uri": "https://localhost:8080/"
        },
        "id": "iSeU3gdKtGry",
        "outputId": "b0ae8e75-f63b-4a69-86f2-b2a97c1511ca"
      },
      "source": [
        "for i in range(len(list3)):\n",
        "  print(list3[i])"
      ],
      "execution_count": null,
      "outputs": [
        {
          "output_type": "stream",
          "name": "stdout",
          "text": [
            "microsoft\n",
            "linux\n",
            "samsung\n",
            "Google\n",
            "dell\n"
          ]
        }
      ]
    },
    {
      "cell_type": "markdown",
      "metadata": {
        "id": "GG7BOUkctfvm"
      },
      "source": [
        "## **List comprehension**\n",
        " List comprehensions are used for creating new lists from other iterables. A list comprehension consists of brackets containing the expression, which is executed for each element along with the for loop to iterate over each element. \n",
        "\n"
      ]
    },
    {
      "cell_type": "code",
      "metadata": {
        "colab": {
          "base_uri": "https://localhost:8080/"
        },
        "id": "GVGjhFzniffb",
        "outputId": "d3a98307-c9e0-4d7e-c1fc-0f82e6c7af3d"
      },
      "source": [
        "# List comprehension to iterate through loop\n",
        "List_C = [cmp b for cmp in list3]                   #notice there is no colon and exists a square bracket\n",
        " \n",
        "# Displaying list\n",
        "print(List_C)"
      ],
      "execution_count": null,
      "outputs": [
        {
          "output_type": "stream",
          "name": "stdout",
          "text": [
            "['microsoft', 'linux', 'samusung', 'Google', 'dell']\n"
          ]
        }
      ]
    },
    {
      "cell_type": "markdown",
      "metadata": {
        "id": "98Kiui1WuIeL"
      },
      "source": [
        "## Adding two lists  using + and append method, both concatenates the lists"
      ]
    },
    {
      "cell_type": "code",
      "metadata": {
        "id": "Dn39vFKAuHvc",
        "colab": {
          "base_uri": "https://localhost:8080/"
        },
        "outputId": "b22a90ac-473e-45db-9956-9966509717dd"
      },
      "source": [
        "list1 = [1, 2, 3]\n",
        "list2 = [5, 6, 7]\n",
        "\n",
        "list3 = list1 + list2\n",
        "print(list3) "
      ],
      "execution_count": null,
      "outputs": [
        {
          "output_type": "stream",
          "name": "stdout",
          "text": [
            "[1, 2, 3, 5, 6, 7]\n"
          ]
        }
      ]
    },
    {
      "cell_type": "code",
      "metadata": {
        "id": "iQ5tgAbQtw6e",
        "colab": {
          "base_uri": "https://localhost:8080/"
        },
        "outputId": "b0c2078b-2abd-4a54-d238-5ea775f563f5"
      },
      "source": [
        "for x in list2:\n",
        "  list1.append(x)\n",
        "\n",
        "print(list1) "
      ],
      "execution_count": null,
      "outputs": [
        {
          "output_type": "stream",
          "name": "stdout",
          "text": [
            "[1, 2, 3, 5, 6, 7]\n"
          ]
        }
      ]
    },
    {
      "cell_type": "markdown",
      "metadata": {
        "id": "W44nTi-NukgK"
      },
      "source": [
        "##Different ways of copying the list items"
      ]
    },
    {
      "cell_type": "code",
      "metadata": {
        "id": "zJnWkTJkuju7",
        "colab": {
          "base_uri": "https://localhost:8080/"
        },
        "outputId": "fe1d1243-cf0b-4123-f801-3ff19d0b26c4"
      },
      "source": [
        "oldlist = list(\"hello, observe the content\")\n",
        "newlist = list(oldlist) # using list method\n",
        "print(newlist)"
      ],
      "execution_count": null,
      "outputs": [
        {
          "output_type": "stream",
          "name": "stdout",
          "text": [
            "['h', 'e', 'l', 'l', 'o', ',', ' ', 'o', 'b', 's', 'e', 'r', 'v', 'e', ' ', 't', 'h', 'e', ' ', 'c', 'o', 'n', 't', 'e', 'n', 't']\n"
          ]
        }
      ]
    },
    {
      "cell_type": "code",
      "metadata": {
        "id": "w3m4wURfu7NX",
        "colab": {
          "base_uri": "https://localhost:8080/"
        },
        "outputId": "44a19e1b-7050-4769-d773-e06936e887f8"
      },
      "source": [
        "newlist = oldlist.copy()\n",
        "print(newlist)"
      ],
      "execution_count": null,
      "outputs": [
        {
          "output_type": "stream",
          "name": "stdout",
          "text": [
            "['h', 'e', 'l', 'l', 'o', ',', ' ', 'o', 'b', 's', 'e', 'r', 'v', 'e', ' ', 't', 'h', 'e', ' ', 'c', 'o', 'n', 't', 'e', 'n', 't']\n"
          ]
        }
      ]
    },
    {
      "cell_type": "markdown",
      "metadata": {
        "id": "5QFFZbaTNgpS"
      },
      "source": [
        "# Dictionary\n",
        "\n",
        "**Dictionary** in Python is an ordered collection of data values, which is stored as **key and value** pairs. \n",
        "Values in a dictionary can be of any data type and can be duplicated, whereas keys can’t be repeated and must be immutable. \n",
        "\n",
        "Dictionary can be created by placing a sequence of elements within curly {} braces, separated by ‘comma’. Dictionary can also be created using the built-in function dict(). An empty dictionary can be created by just placing to curly braces{}. "
      ]
    },
    {
      "cell_type": "code",
      "metadata": {
        "colab": {
          "base_uri": "https://localhost:8080/"
        },
        "id": "t-3XLRv0vQ9-",
        "outputId": "fca36bf0-d9fd-4e94-e185-9a3ed05b9880"
      },
      "source": [
        "dict1 =\t{\n",
        "  \"Class\": \"computation\",\n",
        "  \"roomno\": 102,\n",
        "  \"year\": 2021\n",
        "}\n",
        "print(dict1)"
      ],
      "execution_count": null,
      "outputs": [
        {
          "output_type": "stream",
          "name": "stdout",
          "text": [
            "{'Class': 'computation', 'roomno': 102, 'year': 2021}\n"
          ]
        }
      ]
    },
    {
      "cell_type": "code",
      "metadata": {
        "colab": {
          "base_uri": "https://localhost:8080/"
        },
        "id": "3baSXE5mxang",
        "outputId": "6d88e104-7ad4-4a11-f432-b60f143d7600"
      },
      "source": [
        "type(dict1)"
      ],
      "execution_count": null,
      "outputs": [
        {
          "output_type": "execute_result",
          "data": {
            "text/plain": [
              "dict"
            ]
          },
          "metadata": {},
          "execution_count": 42
        }
      ]
    },
    {
      "cell_type": "markdown",
      "metadata": {
        "id": "78mS2wg5wxk-"
      },
      "source": [
        "Dictionary items are ordered, which means that the items have a defined order, and that order will not change (python 3.6 and above)"
      ]
    },
    {
      "cell_type": "markdown",
      "metadata": {
        "id": "9XvsC1iAx6LC"
      },
      "source": [
        "## Accessing the dictionary items"
      ]
    },
    {
      "cell_type": "code",
      "metadata": {
        "id": "UZtm6462mdy7"
      },
      "source": [
        "dict1[\"class\"]  # Dictionary keys are case sensitive"
      ],
      "execution_count": null,
      "outputs": []
    },
    {
      "cell_type": "code",
      "metadata": {
        "id": "7dLflx38wKwS"
      },
      "source": [
        "dict1[\"Class\"]"
      ],
      "execution_count": null,
      "outputs": []
    },
    {
      "cell_type": "code",
      "metadata": {
        "id": "7_UO2s-uxMM6"
      },
      "source": [
        "dict1.get(\"Class\")"
      ],
      "execution_count": null,
      "outputs": []
    },
    {
      "cell_type": "code",
      "metadata": {
        "colab": {
          "base_uri": "https://localhost:8080/"
        },
        "id": "h3dAqQ3ex1Ef",
        "outputId": "e1e0889e-d90d-4faa-c1bf-d2e84d7609a2"
      },
      "source": [
        "dict1.keys() "
      ],
      "execution_count": null,
      "outputs": [
        {
          "output_type": "execute_result",
          "data": {
            "text/plain": [
              "dict_keys(['Class', 'roomno', 'year'])"
            ]
          },
          "metadata": {},
          "execution_count": 47
        }
      ]
    },
    {
      "cell_type": "code",
      "metadata": {
        "colab": {
          "base_uri": "https://localhost:8080/"
        },
        "id": "chLSWnJix5QJ",
        "outputId": "48842210-dce0-4187-8cda-24471dff9465"
      },
      "source": [
        "dict1.values() "
      ],
      "execution_count": null,
      "outputs": [
        {
          "output_type": "execute_result",
          "data": {
            "text/plain": [
              "dict_values(['computation', 102, 2021])"
            ]
          },
          "metadata": {},
          "execution_count": 48
        }
      ]
    },
    {
      "cell_type": "markdown",
      "metadata": {
        "id": "ja7Qo_QxyIuA"
      },
      "source": [
        "##Using items method to access the keys and values as list"
      ]
    },
    {
      "cell_type": "code",
      "metadata": {
        "colab": {
          "base_uri": "https://localhost:8080/"
        },
        "id": "ylOqOGD0yCYl",
        "outputId": "4832eb34-3ead-422d-d375-46664e49781e"
      },
      "source": [
        "dict1.items()"
      ],
      "execution_count": null,
      "outputs": [
        {
          "output_type": "execute_result",
          "data": {
            "text/plain": [
              "dict_items([('Class', 'computation'), ('roomno', 102), ('year', 2021)])"
            ]
          },
          "metadata": {},
          "execution_count": 49
        }
      ]
    },
    {
      "cell_type": "markdown",
      "metadata": {
        "id": "yByO3kLVy6ET"
      },
      "source": [
        "##Checking if key exists in dictionary"
      ]
    },
    {
      "cell_type": "code",
      "metadata": {
        "id": "K6C39xMRyoKc"
      },
      "source": [
        "if \"class\" in dict1:\n",
        "  print(\"Yes, 'class' is one of the keys in the dict1 dictionary\") "
      ],
      "execution_count": null,
      "outputs": []
    },
    {
      "cell_type": "markdown",
      "metadata": {
        "id": "8w9Qb6CJzFSz"
      },
      "source": [
        "## Updating dictionary "
      ]
    },
    {
      "cell_type": "code",
      "metadata": {
        "colab": {
          "base_uri": "https://localhost:8080/"
        },
        "id": "m28elwbGzIHB",
        "outputId": "47797817-c08d-42fd-d182-54e2eb273915"
      },
      "source": [
        "dict1[\"Class\"] = \"Art of thinking\"\n",
        "print(dict1)"
      ],
      "execution_count": null,
      "outputs": [
        {
          "output_type": "stream",
          "name": "stdout",
          "text": [
            "{'Class': 'Art of thinking', 'roomno': 102, 'year': 2021}\n"
          ]
        }
      ]
    },
    {
      "cell_type": "code",
      "metadata": {
        "colab": {
          "base_uri": "https://localhost:8080/"
        },
        "id": "CxfHSKykzNDb",
        "outputId": "27fc5f29-17ec-402e-d43d-31b679702281"
      },
      "source": [
        "dict1.update({1: 30})\n",
        "print(dict1)"
      ],
      "execution_count": null,
      "outputs": [
        {
          "output_type": "stream",
          "name": "stdout",
          "text": [
            "{'Class': 'Art of thinking', 'roomno': 102, 'year': 2021, 1: 30}\n"
          ]
        }
      ]
    },
    {
      "cell_type": "code",
      "metadata": {
        "colab": {
          "base_uri": "https://localhost:8080/"
        },
        "id": "dppVt2phzbBj",
        "outputId": "a8ce5911-52c3-4b30-92de-e7e06aad2776"
      },
      "source": [
        "dict1.update({'Class': 'Robotics'})\n",
        "print(dict1)"
      ],
      "execution_count": null,
      "outputs": [
        {
          "output_type": "stream",
          "name": "stdout",
          "text": [
            "{'Class': 'Robotics', 'roomno': 102, 'year': 2021, 1: 30, 'class': 'Robotics'}\n"
          ]
        }
      ]
    },
    {
      "cell_type": "markdown",
      "metadata": {
        "id": "55wpdZwp0foE"
      },
      "source": [
        "##clear method to empty the dictionary"
      ]
    },
    {
      "cell_type": "code",
      "metadata": {
        "colab": {
          "base_uri": "https://localhost:8080/"
        },
        "id": "rNNEHDcE0LFr",
        "outputId": "9e16265f-131a-46c8-8a4d-4b5135093cf7"
      },
      "source": [
        "newdict = dict1.copy()\n",
        "print(newdict)\n",
        "newdict.clear()\n",
        "print(newdict) "
      ],
      "execution_count": null,
      "outputs": [
        {
          "output_type": "stream",
          "name": "stdout",
          "text": [
            "{'Class': 'Robotics', 'roomno': 102, 'year': 2021, 'class': 'Robotics'}\n",
            "{}\n"
          ]
        }
      ]
    },
    {
      "cell_type": "code",
      "metadata": {
        "colab": {
          "base_uri": "https://localhost:8080/"
        },
        "id": "muc7gBvl1E0S",
        "outputId": "6ded6497-92b8-4061-a2d0-7dc1dda76379"
      },
      "source": [
        "dict1 =\t{\n",
        "  \"class\": \"computation\",\n",
        "  \"roomno\": 102,\n",
        "  \"year\": 2021\n",
        "}\n",
        "print(dict1)"
      ],
      "execution_count": null,
      "outputs": [
        {
          "output_type": "stream",
          "name": "stdout",
          "text": [
            "{'class': 'computation', 'roomno': 102, 'year': 2021}\n"
          ]
        }
      ]
    },
    {
      "cell_type": "markdown",
      "metadata": {
        "id": "852_SrtKrb2A"
      },
      "source": [
        "## Accessing the key using keys method"
      ]
    },
    {
      "cell_type": "code",
      "metadata": {
        "colab": {
          "base_uri": "https://localhost:8080/"
        },
        "id": "XQBx0G6r1ND4",
        "outputId": "a6961d16-c5b6-4f87-c738-741a7c807c7f"
      },
      "source": [
        "for x in dict1.keys():\n",
        "  print(x) "
      ],
      "execution_count": null,
      "outputs": [
        {
          "output_type": "stream",
          "name": "stdout",
          "text": [
            "class\n",
            "roomno\n",
            "year\n"
          ]
        }
      ]
    },
    {
      "cell_type": "markdown",
      "metadata": {
        "id": "RwdxA-aYrhhv"
      },
      "source": [
        "## Accessing the values using Values method"
      ]
    },
    {
      "cell_type": "code",
      "metadata": {
        "colab": {
          "base_uri": "https://localhost:8080/"
        },
        "id": "Pa73thPC1Q5J",
        "outputId": "3aeb8214-93d8-4c8f-8716-d4e638ab997f"
      },
      "source": [
        "for x in dict1.values():\n",
        "  print(x)"
      ],
      "execution_count": null,
      "outputs": [
        {
          "output_type": "stream",
          "name": "stdout",
          "text": [
            "computation\n",
            "102\n",
            "2021\n"
          ]
        }
      ]
    },
    {
      "cell_type": "markdown",
      "metadata": {
        "id": "Zq5N-iu3n08U"
      },
      "source": [
        "### Accessing the keys and values using the dictionary \"items\" method"
      ]
    },
    {
      "cell_type": "code",
      "metadata": {
        "colab": {
          "base_uri": "https://localhost:8080/"
        },
        "id": "qSddhOe-1U3Z",
        "outputId": "c5feecb5-a113-4e81-ebf9-74705ff27389"
      },
      "source": [
        "for x,y in dict1.items():\n",
        "  print(x,y) "
      ],
      "execution_count": null,
      "outputs": [
        {
          "output_type": "stream",
          "name": "stdout",
          "text": [
            "class computation\n",
            "roomno 102\n",
            "year 2021\n"
          ]
        }
      ]
    },
    {
      "cell_type": "markdown",
      "metadata": {
        "id": "mf-6qjgK13t5"
      },
      "source": [
        "# Set\n",
        "\n",
        "Set is an unordered collection of data type that is iterable, mutable and has no duplicate elements. The order of elements in a set is undefined though it may consist of various elements.\n",
        "\n",
        "Sets can be created by using the built-in set() function with an iterable object or a sequence by placing the sequence inside curly braces, separated by comma."
      ]
    },
    {
      "cell_type": "code",
      "metadata": {
        "colab": {
          "base_uri": "https://localhost:8080/"
        },
        "id": "mtlPOC5i15m9",
        "outputId": "dfd2952a-a223-420e-e6f8-a200179075ed"
      },
      "source": [
        "set1 = {\"apple\", \"samsung\", \"samsung\",\"samsung\", \"samsung\",\"sony\" }\n",
        "print(set1) "
      ],
      "execution_count": null,
      "outputs": [
        {
          "output_type": "stream",
          "name": "stdout",
          "text": [
            "{'apple', 'samsung', 'sony'}\n"
          ]
        }
      ]
    },
    {
      "cell_type": "code",
      "metadata": {
        "colab": {
          "base_uri": "https://localhost:8080/"
        },
        "id": "hIXyoe1RIcnH",
        "outputId": "6041fce8-5c0f-4028-8189-46228ca85697"
      },
      "source": [
        "set1 = set(\"apple\") \n",
        "print(set1)"
      ],
      "execution_count": null,
      "outputs": [
        {
          "output_type": "stream",
          "name": "stdout",
          "text": [
            "{'e', 'p', 'a', 'l'}\n"
          ]
        }
      ]
    },
    {
      "cell_type": "code",
      "metadata": {
        "colab": {
          "base_uri": "https://localhost:8080/"
        },
        "id": "oqccNL6vISIf",
        "outputId": "126d40f2-cd80-4113-f845-12df43a543d7"
      },
      "source": [
        "set1 = set((\"apple\", \"samsung\", \"samsung\",\"samsung\", \"samsung\",\"sony\"))\n",
        "print(set1)"
      ],
      "execution_count": null,
      "outputs": [
        {
          "output_type": "stream",
          "name": "stdout",
          "text": [
            "{'apple', 'samsung', 'sony'}\n"
          ]
        }
      ]
    },
    {
      "cell_type": "markdown",
      "metadata": {
        "id": "U2IxFOlvI9SG"
      },
      "source": [
        "## Set items are unordered and unchangeable. Here, Unchangeable means once set is created its value cannot be updated but we can add new data and remove the data."
      ]
    },
    {
      "cell_type": "code",
      "metadata": {
        "colab": {
          "base_uri": "https://localhost:8080/"
        },
        "id": "D0fE0GlTpONU",
        "outputId": "b429ed94-e77c-4fb5-cd07-dde55a8106f9"
      },
      "source": [
        "set1 = set((40,50,60))\n",
        "print(set1)\n",
        "set1.add(70)\n",
        "print(set1)"
      ],
      "execution_count": null,
      "outputs": [
        {
          "output_type": "stream",
          "name": "stdout",
          "text": [
            "{40, 50, 60}\n",
            "{40, 50, 60, 70}\n"
          ]
        }
      ]
    },
    {
      "cell_type": "markdown",
      "metadata": {
        "id": "Ut0VGZUSpeLw"
      },
      "source": [
        "## To remove an item in a set, we need to use the remove(), or the discard() method."
      ]
    },
    {
      "cell_type": "code",
      "metadata": {
        "colab": {
          "base_uri": "https://localhost:8080/"
        },
        "id": "WUO4nHnwpXT0",
        "outputId": "8847fdfe-0353-46e0-8c90-aec267c09b3b"
      },
      "source": [
        "set1.remove(40)\n",
        "print(set1)"
      ],
      "execution_count": null,
      "outputs": [
        {
          "output_type": "stream",
          "name": "stdout",
          "text": [
            "{50, 60, 70}\n"
          ]
        }
      ]
    },
    {
      "cell_type": "markdown",
      "metadata": {
        "id": "IUda1_l0pj9j"
      },
      "source": [
        "## Use update method, To add items from another set into the current set"
      ]
    },
    {
      "cell_type": "code",
      "metadata": {
        "colab": {
          "base_uri": "https://localhost:8080/"
        },
        "id": "NXBv0WPjpnrD",
        "outputId": "a24317bf-e327-423c-9c7b-7aa3e7706caf"
      },
      "source": [
        "set1 = set((40,50,60))\n",
        "set2 = {40,50,60,70,80}\n",
        "set1.update(set2)\n",
        "print(set1)"
      ],
      "execution_count": null,
      "outputs": [
        {
          "output_type": "stream",
          "name": "stdout",
          "text": [
            "{70, 40, 80, 50, 60}\n"
          ]
        }
      ]
    },
    {
      "cell_type": "markdown",
      "metadata": {
        "id": "LGCXmK6gpzBb"
      },
      "source": [
        "## To remove an item from set we can use Pop method.Pop method usually remove the last item. However, sets are unordered, so you will not know what item that gets removed."
      ]
    },
    {
      "cell_type": "code",
      "metadata": {
        "colab": {
          "base_uri": "https://localhost:8080/"
        },
        "id": "QPR8un40p0Dp",
        "outputId": "59254e93-3f9e-40f7-9798-960f008d4c31"
      },
      "source": [
        "set1.pop()\n",
        "print(set1)"
      ],
      "execution_count": null,
      "outputs": [
        {
          "output_type": "stream",
          "name": "stdout",
          "text": [
            "{40, 80, 50, 60}\n"
          ]
        }
      ]
    },
    {
      "cell_type": "markdown",
      "metadata": {
        "id": "QbaYOwuWKGXq"
      },
      "source": [
        "##Set can contain multiple data types"
      ]
    },
    {
      "cell_type": "code",
      "metadata": {
        "colab": {
          "base_uri": "https://localhost:8080/"
        },
        "id": "9a1nirwdJ_NZ",
        "outputId": "4398807b-b529-4d14-d715-0ec7e6e7fee2"
      },
      "source": [
        "set1 = {\"abc\", 34, True, 40, \"male\"} \n",
        "type(set1)"
      ],
      "execution_count": null,
      "outputs": [
        {
          "output_type": "execute_result",
          "data": {
            "text/plain": [
              "set"
            ]
          },
          "metadata": {},
          "execution_count": 73
        }
      ]
    },
    {
      "cell_type": "markdown",
      "metadata": {
        "id": "3YqoKwTFKZzB"
      },
      "source": [
        "##Accessing the items using constructor"
      ]
    },
    {
      "cell_type": "code",
      "metadata": {
        "colab": {
          "base_uri": "https://localhost:8080/"
        },
        "id": "wRsYuwd3KSBQ",
        "outputId": "24e5cecd-e884-48c0-9e1f-96b4149afb7c"
      },
      "source": [
        "for i in set1:\n",
        "  print(i) "
      ],
      "execution_count": null,
      "outputs": [
        {
          "output_type": "stream",
          "name": "stdout",
          "text": [
            "True\n",
            "34\n",
            "abc\n",
            "40\n",
            "male\n"
          ]
        }
      ]
    },
    {
      "cell_type": "markdown",
      "metadata": {
        "id": "jqiaZms0K0zr"
      },
      "source": [
        "## Checking the items if exists in the set"
      ]
    },
    {
      "cell_type": "code",
      "metadata": {
        "colab": {
          "base_uri": "https://localhost:8080/"
        },
        "id": "_9N0RwrLKkWX",
        "outputId": "12898702-7776-4f59-a6ee-b34e02de7d19"
      },
      "source": [
        "if 34 in set1:\n",
        "  print(\"Yes it exists\")"
      ],
      "execution_count": null,
      "outputs": [
        {
          "output_type": "stream",
          "name": "stdout",
          "text": [
            "Yes it exists\n"
          ]
        }
      ]
    },
    {
      "cell_type": "markdown",
      "metadata": {
        "id": "xig8lOEKOHCD"
      },
      "source": [
        "## Try using clear and delete method too"
      ]
    },
    {
      "cell_type": "markdown",
      "metadata": {
        "id": "lZ60d3alWM-s"
      },
      "source": [
        "# Tuples\n",
        "\n",
        "Tuples are preferred when the user does not want the data to be modified. So that object can remain intact during its lifetime. As Tuples are immutable, they can be used to prevent accidental addition, modification, or removal of data."
      ]
    },
    {
      "cell_type": "markdown",
      "metadata": {
        "id": "6jc6srL5QIwo"
      },
      "source": [
        "## Working Tuples. Tuples are unchangeable, meaning that we cannot change, add or remove items after the tuple has been created."
      ]
    },
    {
      "cell_type": "code",
      "metadata": {
        "colab": {
          "base_uri": "https://localhost:8080/"
        },
        "id": "FUaC5gkBOCjt",
        "outputId": "9535c637-9169-4bb8-826d-8df28054dabb"
      },
      "source": [
        "tuple1 = (\"apple\", \"samsung\", \"sony\", \"apple\")\n",
        "\n",
        "#Adding list here to highlight differences\n",
        "list1 =[\"apple\", \"samsung\", \"sony\", \"apple\"]\n",
        "\n",
        "print(tuple1)\n",
        "print(list1)"
      ],
      "execution_count": null,
      "outputs": [
        {
          "output_type": "stream",
          "name": "stdout",
          "text": [
            "('apple', 'samsung', 'sony', 'apple')\n",
            "['apple', 'samsung', 'sony', 'apple']\n"
          ]
        }
      ]
    },
    {
      "cell_type": "code",
      "metadata": {
        "colab": {
          "base_uri": "https://localhost:8080/"
        },
        "id": "qjhYCX2FQdFl",
        "outputId": "b553ada8-bce1-4c75-ec6a-b453c04fcb4b"
      },
      "source": [
        "tuple2 = tuple((\"apple\", \"samsung\", \"sony\", \"apple\"))\n",
        "print(tuple2)"
      ],
      "execution_count": null,
      "outputs": [
        {
          "output_type": "stream",
          "name": "stdout",
          "text": [
            "('apple', 'samsung', 'sony', 'apple')\n"
          ]
        }
      ]
    },
    {
      "cell_type": "markdown",
      "metadata": {
        "id": "luvSEB74RWWR"
      },
      "source": [
        "## Changing the tuple values\n",
        "Tuples are unchangeable, or immutable.\n",
        "\n",
        "But we can convert the tuple into a list, change the list, and convert the list back into a tuple"
      ]
    },
    {
      "cell_type": "code",
      "metadata": {
        "colab": {
          "base_uri": "https://localhost:8080/"
        },
        "id": "hwjrWstdQqqk",
        "outputId": "8289a143-6df3-4fef-8cfc-c6432e4fa37d"
      },
      "source": [
        "tuple2 = tuple((\"apple\", \"samsung\", \"sony\"))\n",
        "print(tuple2)\n",
        "\n",
        "tuple2 = tuple((\"Nike\", \"addidas\", \"crocs\"))\n",
        "print(tuple2)"
      ],
      "execution_count": null,
      "outputs": [
        {
          "output_type": "stream",
          "name": "stdout",
          "text": [
            "('apple', 'samsung', 'sony')\n",
            "('Nike', 'addidas', 'crocs')\n"
          ]
        }
      ]
    },
    {
      "cell_type": "code",
      "metadata": {
        "colab": {
          "base_uri": "https://localhost:8080/"
        },
        "id": "MK9j4VNbTD84",
        "outputId": "29b2cad9-44a6-469a-d8ab-c9fce8f89e99"
      },
      "source": [
        "thistuple = tuple((\"Nike\", \"addidas\", \"crocs\"))\n",
        "print(thistuple)\n",
        "y = list(thistuple)\n",
        "y.append(\"Reebok\")\n",
        "thistuple = tuple(y)\n",
        "print(thistuple)"
      ],
      "execution_count": null,
      "outputs": [
        {
          "output_type": "stream",
          "name": "stdout",
          "text": [
            "('Nike', 'addidas', 'crocs')\n",
            "('Nike', 'addidas', 'crocs', 'Reebok')\n"
          ]
        }
      ]
    },
    {
      "cell_type": "markdown",
      "source": [
        "# Exercises"
      ],
      "metadata": {
        "id": "aD59QkT4g9sX"
      }
    },
    {
      "cell_type": "markdown",
      "metadata": {
        "id": "ylhjavMUsrqU"
      },
      "source": [
        ">**Exercise 1:** \n",
        "\n",
        "Create a new list \"L_3\" that picks an odd-index items from the second list and even index items from the first list.\n",
        "\n",
        "L_1 = [34, 46, 59, 53, 62, 71, 81],    \n",
        "L_2 = [4, 81, 12, 61, 20, 42, 88]"
      ]
    },
    {
      "cell_type": "markdown",
      "metadata": {
        "id": "lSqMRVBuvNX1"
      },
      "source": [
        ">**Exercise 2:**  \n",
        "\n",
        "After removing the duplicate from L3 created above,Slice L_3 into 3 equal chunks through slicing operation using index and reverse each chunk by passing each list chunk into list(reversed(chunk)) function."
      ]
    },
    {
      "cell_type": "markdown",
      "metadata": {
        "id": "0Cl4e03bw76s"
      },
      "source": [
        ">**Exercise 3:**\n",
        " \n",
        "Write the program that Counts the occurrence of each element from **new_listb**. \n",
        "Run the code below, to get new_listb: \n",
        "\n",
        "a = list (\"I walk a lonely road The only one that I have ever known Don't know where it goes But it's home to me, and I walk alone, I walk this empty street On the Boulevard of Broken Dreams\")\n",
        "\n",
        "new_listb = list([val for val in a if val.isalnum()])\n",
        "\n",
        "\n",
        "\n"
      ]
    },
    {
      "cell_type": "markdown",
      "metadata": {
        "id": "ESanFI-nx-yM"
      },
      "source": [
        ">**Exercise 4:**\n",
        "\n",
        "Find the intersection of two sets using \"**set1.intersection(set2)**\" function and later, remove these common elements from the first set.\n",
        "\n",
        "first_set = {44, 43, 12}\n",
        "second_set = {34, 44, 22, 27, 43, 53, 48}"
      ]
    },
    {
      "cell_type": "markdown",
      "metadata": {
        "id": "EgEmv2z4y9dN"
      },
      "source": [
        ">**Exercise 5:** \n",
        "\n",
        "Get all values from the fruits_price dictionary whose price is less than rs.100 and add them to a affordable_list containing just price value.\n",
        "\n",
        "Fruits_Price = {'Apple': 146, 'Mango': 200, 'Avacado': 246, 'Grapes': 80, 'Papaya': 50, 'Kiwi': 60}\n"
      ]
    },
    {
      "cell_type": "markdown",
      "metadata": {
        "id": "Wx897jlk023F"
      },
      "source": [
        "# Peer review\n",
        "\n",
        "Grade the Exercise 4 and 5, made by the person sitting next to you (just one) and add the grade to this [sheet](https://forms.office.com/r/e6bvKWvcWm).\n",
        "\n",
        "Grading scheme (1-5):\n",
        "- 2 marks: **Readability of code**; how contexual is the code, comments explaining what the code is doing.\n",
        "- 3 marks: **Working of the code**; whether or not the code works, how cleanly it is written and how much effort has been put into making it work."
      ]
    },
    {
      "cell_type": "code",
      "source": [
        ""
      ],
      "metadata": {
        "id": "ECdi9_45o6l5"
      },
      "execution_count": null,
      "outputs": []
    }
  ]
}